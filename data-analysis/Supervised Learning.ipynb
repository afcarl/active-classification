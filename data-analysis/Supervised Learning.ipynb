{
 "cells": [
  {
   "cell_type": "code",
   "execution_count": 1,
   "metadata": {},
   "outputs": [
    {
     "name": "stderr",
     "output_type": "stream",
     "text": [
      "/usr/lib/python3.6/site-packages/IPython/html.py:14: ShimWarning: The `IPython.html` package has been deprecated since IPython 4.0. You should import from `notebook` instead. `IPython.html.widgets` has moved to `ipywidgets`.\n",
      "  \"`IPython.html.widgets` has moved to `ipywidgets`.\", ShimWarning)\n"
     ]
    }
   ],
   "source": [
    "%matplotlib inline\n",
    "import numpy as np\n",
    "import matplotlib.pyplot as plt\n",
    "import matplotlib.cm as cm\n",
    "from matplotlib import rcParams\n",
    "import pandas as pd\n",
    "import warnings\n",
    "\n",
    "from scipy.stats import beta\n",
    "\n",
    "from ipywidgets import widgets\n",
    "from IPython.html.widgets import *\n",
    "\n",
    "warnings.filterwarnings('ignore')\n",
    "rcParams.update({'font.size': 15})\n",
    "#plt.style.use('ggplot')\n",
    "#plt.style.use('seaborn-dark-palette')\n",
    "plt.style.use('fivethirtyeight')\n",
    "\n",
    "float_formatter = lambda x: \"%.2f\" % x\n",
    "np.set_printoptions(formatter={'float_kind':float_formatter})\n",
    "np.set_printoptions(precision=2)"
   ]
  },
  {
   "cell_type": "code",
   "execution_count": 2,
   "metadata": {
    "collapsed": true
   },
   "outputs": [],
   "source": [
    "def stringToInt(arr, position, values):\n",
    "    for i, v in enumerate(values):\n",
    "        arr[arr[:,position] == v, position] = i\n",
    "    return arr\n",
    "\n",
    "# For file with training stage\n",
    "csvFileFT = '../data/monsters_data_free_familiarize_05232017.csv'\n",
    "csvFT = np.genfromtxt(csvFileFT, dtype=np.string_, delimiter=',', usecols=(0,1,2,8,11), skip_header=1)\n",
    "ids = [i for i in np.unique(csvFT[:,0]) ]\n",
    "cond = [co for co in np.unique(csvFT[:,1])]\n",
    "phases = [p for p in np.unique(csvFT[:,2]) ]\n",
    "categories = [b'category1D', b'categoryIgnore1D', b'category2D', b'categoryRandom']\n",
    "# For converting string to int boolean\n",
    "bo = [b'False', b'True']\n",
    "\n",
    "#csvIntFT = csvFT.copy()\n",
    "# Convert fields to ints for easy processing\n",
    "for i,j in enumerate([ids, cond, phases, categories, bo]):\n",
    "    csvFT = stringToInt(csvFT, i, j)\n",
    "\n",
    "csvIntFT = csvFT.copy()\n",
    "    \n",
    "csvIntFT = csvIntFT.astype('int')\n",
    "# Get only those in free exploration phase\n",
    "csvIntFTE = csvIntFT[csvIntFT[:,2]==0]\n",
    "# Get a copy for splitting by condition (below)\n",
    "csvIntFTECond = csvIntFTE.copy()\n",
    "\n",
    "# Remove phase column (2) (and for now also the condition column (1))\n",
    "csvIntFTE = np.delete(csvIntFTE, (1,2), axis=1)\n",
    "\n",
    "# Split by user\n",
    "splitCsvFTE = [csvIntFTE[csvIntFTE[:,0]==i] for i in np.unique(csvIntFTE[:,0])]\n",
    "\n",
    "\n",
    "\n",
    "# Split by condition\n",
    "csvIntFTECond = np.delete(csvIntFTECond, 2, axis = 1)\n",
    "informed = csvIntFTECond[csvIntFTECond[:,1]==0]\n",
    "uninformed = csvIntFTECond[csvIntFTECond[:,1]==1]\n",
    "informed = np.delete(informed, 1, axis=1)\n",
    "uninformed = np.delete(uninformed, 1, axis=1)\n",
    "splitInf = [informed[informed[:,0]==i] for i in np.unique(informed[:,0])]\n",
    "splitUni = [uninformed[uninformed[:,0]==i] for i in np.unique(uninformed[:,0])]"
   ]
  },
  {
   "cell_type": "code",
   "execution_count": 3,
   "metadata": {
    "collapsed": true
   },
   "outputs": [],
   "source": [
    "tasks = 4\n",
    "catLab = ['1D', 'I1D', '2D', 'R']\n",
    "\n",
    "#usersF = np.shape(np.unique(csvIntF[:,0]))[0]#5\n",
    "\n",
    "# For free exploration with Training\n",
    "usersFT = np.shape(np.unique(csvIntFT[:,0]))[0]\n",
    "usersFTI = np.shape(np.unique(informed[:,0]))[0]\n",
    "usersFTU = usersFT-usersFTI\n",
    "\n",
    "# For strategic learning\n",
    "#usersS = np.shape(np.unique(csvIntS[:,0]))[0]\n",
    "#usersSI = np.shape(np.unique(informedSE[:,0]))[0]\n",
    "#usersSU = usersS-usersSI"
   ]
  },
  {
   "cell_type": "markdown",
   "metadata": {},
   "source": [
    "#### Additional Preprocessing"
   ]
  },
  {
   "cell_type": "code",
   "execution_count": 4,
   "metadata": {},
   "outputs": [],
   "source": [
    "# Load behavioral trajectories (csvIntFT)\n",
    "# Get only those in training phase\n",
    "csvIntFTT = csvIntFT[csvIntFT[:,2]==1]\n",
    "# Get a copy for splitting by condition (below)\n",
    "csvIntFTTCond = csvIntFTT.copy()\n",
    "\n",
    "# Remove phase column (2) (and for now also the condition column (1))\n",
    "csvIntFTT = np.delete(csvIntFTT, (1,2), axis=1)\n",
    "\n",
    "# Split by condition\n",
    "# Get rid of phase column\n",
    "csvIntFTTCond = np.delete(csvIntFTTCond, 2, axis = 1)\n",
    "# Split by informed/uninformed\n",
    "informedFTT = csvIntFTTCond[csvIntFTTCond[:,1]==0]\n",
    "uninformedFTT = csvIntFTTCond[csvIntFTTCond[:,1]==1]\n",
    "informedFTT = np.delete(informedFTT, 1, axis=1)\n",
    "uninformedFTT = np.delete(uninformedFTT, 1, axis=1)\n",
    "# Split by user\n",
    "splitInfFTT = [informedFTT[informedFTT[:,0]==i] for i in np.unique(informedFTT[:,0])]\n",
    "splitUniFTT = [uninformedFTT[uninformedFTT[:,0]==i] for i in np.unique(uninformedFTT[:,0])]\n",
    "\n",
    "# shape: users x trials x dims\n",
    "# dims: id, task category, right or wrong\n",
    "# Need these vectors to compute prob successes, LP, etc"
   ]
  },
  {
   "cell_type": "markdown",
   "metadata": {},
   "source": [
    "#### Self-reported answers preprocessing"
   ]
  },
  {
   "cell_type": "code",
   "execution_count": 5,
   "metadata": {},
   "outputs": [
    {
     "name": "stdout",
     "output_type": "stream",
     "text": [
      "(348, 13) (796, 16) (796, 7) (796, 14)\n"
     ]
    }
   ],
   "source": [
    "# Load free exploration\n",
    "#user(0), cat-task complexity(1), # task selec(2), % sele(3), # correct on task(4), % correct(5), answers(7:12)\n",
    "free = np.loadtxt('free-free.txt')\n",
    "\n",
    "# Load free exploration with training\n",
    "#user(0), cat-task complexity(1), # task selec(2), % sele(3), # correct on task(4), % correct(5), answers(6:11)\n",
    "freeTTr = np.loadtxt('freeTrain-train.txt') \n",
    "freeTFr = np.loadtxt('freeTrain-free.txt')\n",
    "\n",
    "# Integrate all significant metrics\n",
    "# to make things easier take free exploration data and subjective answers first, then stack performance from \n",
    "# the other two phases\n",
    "\n",
    "# Just for verification purposes\n",
    "if freeTFr.shape[0] == freeTTr.shape[0]:\n",
    "    freeT = np.hstack((freeTFr, freeTTr[:,7:], freeTTr[:,5:7]))\n",
    "else:\n",
    "    print('columns do not match, someone did not select all tasks')\n",
    "    \n",
    "print(np.shape(free), np.shape(freeT), np.shape(freeTFr), np.shape(freeTTr))"
   ]
  },
  {
   "cell_type": "code",
   "execution_count": 6,
   "metadata": {},
   "outputs": [
    {
     "name": "stdout",
     "output_type": "stream",
     "text": [
      "(796, 7) (796, 14)\n",
      "(396, 15) (400, 15)\n",
      "(396, 13) (400, 13)\n"
     ]
    }
   ],
   "source": [
    "#user(0), cond(1) cat-task complexity(2), # task selec(3), % sele(4), # correct on task(5), % correct(6), \n",
    "#answers(7:12)\n",
    "\n",
    "# Split by users that received information about the existence of a random task and those that didn't\n",
    "informedFT = freeT[freeT[:,1]==0]\n",
    "uninformedFT = freeT[freeT[:,1]==1]\n",
    "# For training only\n",
    "informedFTT = freeTTr[freeTTr[:,1]==0]\n",
    "uninformedFTT = freeTTr[freeTTr[:,1]==1]\n",
    "\n",
    "#print(spilot[-1,:])\n",
    "# Remove column \n",
    "freeT = np.delete(freeT, 1, axis=1)\n",
    "informedFT = np.delete(informedFT, 1, axis=1)\n",
    "uninformedFT = np.delete(uninformedFT, 1, axis=1)\n",
    "informedFTT = np.delete(informedFTT, 1, axis=1)\n",
    "uninformedFTT = np.delete(uninformedFTT, 1, axis=1)\n",
    "\n",
    "print(np.shape(freeTFr), np.shape(freeTTr))\n",
    "print(np.shape(informedFT), np.shape(uninformedFT))\n",
    "print(np.shape(informedFTT), np.shape(uninformedFTT))\n",
    "\n",
    "free = np.delete(free, 1, axis=1)"
   ]
  },
  {
   "cell_type": "markdown",
   "metadata": {},
   "source": [
    "#### Rate of empirical success"
   ]
  },
  {
   "cell_type": "code",
   "execution_count": 7,
   "metadata": {},
   "outputs": [],
   "source": [
    "# Rate of success\n",
    "# To use as alternative to the probabilities\n",
    "TRIALS_TRAINING = 15\n",
    "def rateSucc(arr, userArr):\n",
    "    # Store performance per user per task\n",
    "    perfUser = []\n",
    "    # Go through user\n",
    "    for u in range(userArr):\n",
    "        tmpU = arr[u]\n",
    "        perfTask = []\n",
    "        # Go through each task\n",
    "        for t in range(tasks):\n",
    "            # Split by task\n",
    "            tmpT = tmpU[tmpU[:,1] == t]\n",
    "            perfTask.append(np.sum(tmpT[:,2]==1)/TRIALS_TRAINING)\n",
    "        perfUser.append(perfTask)\n",
    "            \n",
    "    return np.asarray(perfUser)\n",
    "\n",
    "def relRateSucc(arr):\n",
    "    return arr/np.mean(arr, axis=1).reshape(np.shape(arr)[0],1)\n",
    "\n",
    "# Obtain predicted accuracy (e.g. \"I predict based on my observations that my p(correct)=? if you ask me \n",
    "# to classify instances of this exercise without receiving any feedback\")\n",
    "rateFTTI = rateSucc(splitInfFTT, usersFTI)\n",
    "rateFTTU = rateSucc(splitUniFTT, usersFTU)\n",
    "# rateSTI = extractProbsTrajec(splitInfST, usersSI)\n",
    "# rateSTU = extractProbsTrajec(splitUniST, usersSU)\n",
    "\n",
    "relRateFTTI = relRateSucc(rateFTTI)\n",
    "relRateFTTU = relRateSucc(rateFTTU)"
   ]
  },
  {
   "cell_type": "code",
   "execution_count": 8,
   "metadata": {
    "collapsed": true
   },
   "outputs": [],
   "source": [
    "#user(0), cat-task complexity(1), # task selec(2), % sele(3), # correct on task(4), % correct(5), \n",
    "#answers(6:12), relative performance\n",
    "informedFTT = np.column_stack((informedFTT, relRateFTTI.flatten()))"
   ]
  },
  {
   "cell_type": "markdown",
   "metadata": {},
   "source": [
    "#### Probability success trajectories"
   ]
  },
  {
   "cell_type": "code",
   "execution_count": 9,
   "metadata": {},
   "outputs": [
    {
     "name": "stdout",
     "output_type": "stream",
     "text": [
      "(99, 4, 16)\n"
     ]
    }
   ],
   "source": [
    "# Gets the p(correct) at each trial per task and per user\n",
    "def extractProbsTrajec(arr, userArr):\n",
    "    # Store p(correct) per user\n",
    "    probUser = []\n",
    "    # Go through user\n",
    "    for u in range(userArr):\n",
    "        tmpU = arr[u]\n",
    "        # Init prior\n",
    "        alpha,bet = 2,2\n",
    "        # Store p(correct) = predicted accuracy evolution per task for user u\n",
    "        probTask = []\n",
    "        # Go through each task\n",
    "        for t in range(tasks):\n",
    "            # Split by task\n",
    "            tmpT = tmpU[tmpU[:,1] == t]\n",
    "            # Go through its trial history\n",
    "            succ = 0\n",
    "            # store p(correct) in this task\n",
    "            probs = []\n",
    "            probs.append(np.mean(beta(alpha+succ, bet+(0+1)-succ).rvs(size=500)))\n",
    "            #print(np.mean(beta(alpha+succ, bet+(0+1)-succ).rvs(size=500)), alpha+succ, bet+0-succ)\n",
    "            for trial in range(np.shape(tmpT)[0]):\n",
    "                # Check if the answer was correct on this trial\n",
    "                if tmpT[trial,2] == 1:\n",
    "                    succ+=1\n",
    "                #Construct beta distribution for posterior Beta(α=prior α+Succ, β=prior β+Trials−Succ)\n",
    "                dist = beta(alpha+succ, bet+(trial+1)-succ)\n",
    "                #Draw sample from beta distribution\n",
    "                #print(np.mean(dist.rvs(size=500)), alpha+succ, bet+(trial+1)-succ)\n",
    "                probs.append(np.mean(dist.rvs(size=500)))\n",
    "            probTask.append(probs)\n",
    "        probUser.append(probTask)\n",
    "    return np.asarray(probUser)\n",
    "\n",
    "# Obtain predicted accuracy (e.g. \"I predict based on my observations that my p(correct)=? if you ask me \n",
    "# to classify instances of this exercise without receiving any feedback\")\n",
    "probsFTTI = extractProbsTrajec(splitInfFTT, usersFTI)\n",
    "probsFTTU = extractProbsTrajec(splitUniFTT, usersFTU)\n",
    "# probsSTI = extractProbsTrajec(splitInfST, usersSI)\n",
    "# probsSTU = extractProbsTrajec(splitUniST, usersSU)\n",
    "\n",
    "print(np.shape(probsFTTI))"
   ]
  },
  {
   "cell_type": "markdown",
   "metadata": {},
   "source": [
    "#### Alternatively use empirical rate of success trajectory (probably noisier during the first trials)"
   ]
  },
  {
   "cell_type": "code",
   "execution_count": 10,
   "metadata": {},
   "outputs": [],
   "source": [
    "def extractSuccTrajec(arr, userArr):\n",
    "    # Store rate of success per user\n",
    "    succUser = []\n",
    "    # Go through user\n",
    "    for u in range(userArr):\n",
    "        tmpU = arr[u]\n",
    "        # Store evolution rate of success per task\n",
    "        succTask = []\n",
    "        # Go through each task\n",
    "        for t in range(tasks):\n",
    "            # Split by task\n",
    "            tmpT = tmpU[tmpU[:,1] == t]\n",
    "            # Go through its trial history\n",
    "            succ = 0\n",
    "            # store rates of success in this task\n",
    "            rates = []\n",
    "            # Added initial 0 so when transformed to error it starts from 1. However this value doesn't affect rate \n",
    "            # of success\n",
    "            rates.append(succ)\n",
    "            for trial in range(np.shape(tmpT)[0]):\n",
    "                # Check if the answer was correct on this trial\n",
    "                if tmpT[trial,2] == 1:\n",
    "                    succ+=1\n",
    "                rates.append(succ / (trial+1) )\n",
    "            succTask.append(rates)\n",
    "        succUser.append(succTask)\n",
    "    return np.asarray(succUser)\n",
    "\n",
    "succFTTI = extractSuccTrajec(splitInfFTT, usersFTI)\n",
    "succFTTU = extractSuccTrajec(splitUniFTT, usersFTU)\n",
    "# probsSTI = extractProbsTrajec(splitInfST, usersSI)\n",
    "# probsSTU = extractProbsTrajec(splitUniST, usersSU)"
   ]
  },
  {
   "cell_type": "markdown",
   "metadata": {},
   "source": [
    "#### Learning progress"
   ]
  },
  {
   "cell_type": "code",
   "execution_count": 11,
   "metadata": {},
   "outputs": [
    {
     "name": "stdout",
     "output_type": "stream",
     "text": [
      "[ 0.77  0.34  0.24  0.03]\n"
     ]
    }
   ],
   "source": [
    "def getLPNormal(rates, userArr):\n",
    "    lpsUser = []\n",
    "    # Go through every user and task\n",
    "    for u in range(userArr):\n",
    "        #tmpU = diff[u]\n",
    "        tmpU = rates[u]\n",
    "        lps = []\n",
    "        for t in range(tasks):\n",
    "            # Convert prob to errors\n",
    "            errT = 1-tmpU[t]\n",
    "            # fit polinomial to error differences\n",
    "            slope, intercept = np.polyfit(np.arange(len(errT)), errT, 1)\n",
    "            x = np.linspace(0, len(errT)-1, 100)\n",
    "            # LP = - [Fitted Error(present) - Fitted Error(past)]\n",
    "            lp = -((slope*x[-1]+intercept)-(slope*x[0]+intercept))\n",
    "            lps.append(lp)\n",
    "            #print(slope*x[0]+intercept, slope*x[-1]+intercept, diffT, lp)\n",
    "            #print(probs[u], errT, diffT, slope*x[0]+intercept, slope*x[-1]+intercept, lp)\n",
    "        lpsUser.append(lps)\n",
    "        \n",
    "        #print(lpsUser)\n",
    "    return np.asarray(lpsUser)\n",
    "\n",
    "def relLP(arr):\n",
    "    return arr/np.mean(arr, axis=1).reshape(np.shape(arr)[0],1)\n",
    "\n",
    "# Get LP\n",
    "lpFTTI_N = getLPNormal(succFTTI, usersFTI)\n",
    "lpFTTU_N = getLPNormal(succFTTU, usersFTU)\n",
    "# lpSTI_N = getLPNormal(rateSTI, usersSI)\n",
    "# lpSTU_N = getLPNormal(rateSTU, usersSU)\n",
    "print(lpFTTI_N[0])\n",
    "\n",
    "lpRelFTTI_N = relLP(lpFTTI_N)\n",
    "lpRelFTTU_N = relLP(lpFTTU_N)\n",
    "\n",
    "#user(0), cat-task complexity(1), # task selec(2), % sele(3), # correct on task(4), % correct(5), \n",
    "#answers(6:12), relative performance, lp, relative lp\n",
    "informedFTT = np.column_stack((informedFTT, lpFTTI_N.flatten(), lpRelFTTI_N.flatten()))"
   ]
  },
  {
   "cell_type": "markdown",
   "metadata": {},
   "source": [
    "#### Check first selection"
   ]
  },
  {
   "cell_type": "code",
   "execution_count": 12,
   "metadata": {},
   "outputs": [
    {
     "name": "stdout",
     "output_type": "stream",
     "text": [
      "(99,)\n"
     ]
    }
   ],
   "source": [
    "def checkFirstOption(arr, usersArr, checkIncomplete=False):\n",
    "    firstSelec = []\n",
    "    incomplete = []\n",
    "    for u in range(usersArr):\n",
    "        # If it's necessary to check those that didn't explore all tasks (e.g. free exploration only)\n",
    "        if checkIncomplete:\n",
    "            questions = arr[u]\n",
    "            # Count number of times a task was selected\n",
    "            task, ctask = np.unique(questions[:,1], return_counts=True)\n",
    "\n",
    "            # Check if it explored all tasks\n",
    "            if len(task) < 4:\n",
    "                incomplete.append(u)\n",
    "            else:\n",
    "                firstSelec.append(arr[u][0,1])\n",
    "        else:\n",
    "            firstSelec.append(arr[u][0,1])\n",
    "            \n",
    "    # Return also a list of people who didn't explore all tasks\n",
    "    return np.asarray(firstSelec), incomplete\n",
    "\n",
    "fsFTI,_ = checkFirstOption(splitInf, usersFTI)\n",
    "fsFTU,_ = checkFirstOption(splitUni, usersFTU)\n",
    "#fsF,_ = checkFirstOption(splitCsvF, usersF, checkIncomplete=True)\n",
    "#fsSU,_ = checkFirstOption(splitUniSE, usersSU)\n",
    "#fsSI,_ = checkFirstOption(splitInfSE, usersSI)\n",
    "\n",
    "print(np.shape(fsFTI))"
   ]
  },
  {
   "cell_type": "code",
   "execution_count": 13,
   "metadata": {},
   "outputs": [],
   "source": [
    "# Label is whether or not this task was the first option\n",
    "def addLabel(arr, firstSelec):\n",
    "    fsList = []\n",
    "    for i, ii in enumerate(np.arange(0,np.shape(arr)[0],4)):\n",
    "        sliced = arr[ii:ii+4]\n",
    "        fs = sliced[:,1] == firstSelec[i]\n",
    "        fs = fs.astype(int)\n",
    "        fsList.append(fs.tolist())\n",
    "    return np.asarray(fsList)\n",
    "\n",
    "\n",
    "#slice by 4 in 4\n",
    "# sliced = informedFTT[0:4]\n",
    "# print(sliced)\n",
    "# print(fsFTI[0])\n",
    "\n",
    "# fs = sliced[:,1] == fsFTI[0] \n",
    "# fs.astype(int)\n",
    "# informedFTT = np.column_stack((sliced, fs.astype(int)))\n",
    "# informedFTT\n",
    "\n",
    "labelFTTI = addLabel(informedFTT, fsFTI)\n",
    "#labelFTTI = labelFTTI.flatten()\n",
    "informedFTT = np.column_stack((informedFTT, labelFTTI.flatten()))"
   ]
  },
  {
   "cell_type": "markdown",
   "metadata": {},
   "source": [
    "#### Supervised Learning"
   ]
  },
  {
   "cell_type": "code",
   "execution_count": 14,
   "metadata": {},
   "outputs": [
    {
     "name": "stdout",
     "output_type": "stream",
     "text": [
      "[[  2.20e+01   3.00e+00   1.50e+01 ...,  -3.19e-01  -1.23e+00   0.00e+00]\n",
      " [  4.10e+01   3.00e+00   1.50e+01 ...,  -4.72e-02  -1.98e-01   0.00e+00]\n",
      " [  1.13e+02   1.00e+00   1.50e+01 ...,   3.20e-01   1.07e+00   0.00e+00]\n",
      " ..., \n",
      " [  1.55e+02   2.00e+00   1.50e+01 ...,  -8.01e-02  -2.19e-01   0.00e+00]\n",
      " [  8.80e+01   3.00e+00   1.50e+01 ...,   1.64e-02   1.06e-01   0.00e+00]\n",
      " [  1.10e+01   3.00e+00   1.50e+01 ...,   5.10e-01   1.16e+00   1.00e+00]]\n"
     ]
    }
   ],
   "source": [
    "#user(0), cat-task complexity(1), # task selec(2), % sele(3), # correct on task(4), % correct(5), \n",
    "#answers(6:12), relative performance, lp, relative lp\n",
    "informedFTT[0:4]\n",
    "\n",
    "# Randomize\n",
    "np.take(informedFTT, np.random.permutation(informedFTT.shape[0]), axis=0, out=informedFTT)\n",
    "print(informedFTT)\n",
    "\n",
    "# Remove column of user id\n",
    "informedFTT = np.delete(informedFTT, 0, 1)"
   ]
  },
  {
   "cell_type": "code",
   "execution_count": 15,
   "metadata": {},
   "outputs": [
    {
     "name": "stdout",
     "output_type": "stream",
     "text": [
      "Accuracy is  73.9495798319\n",
      "==========\n",
      "Reported Time Invested   0.129867616854\n",
      "Relative Performance   0.0997247238306\n",
      "Reported Future Learning after training   0.0900779319873\n",
      "LP   0.0801161836983\n",
      "Reported Future Learning after experiment   0.0782073348651\n",
      "Relative LP   0.0774824023237\n",
      "Reported Interest   0.0762300333916\n",
      "% Correct   0.073138383116\n",
      "# Correct   0.0674325340173\n",
      "Reported Progress   0.0655649923635\n",
      "Reported Rule   0.0570522578206\n",
      "Complexity   0.0535752102583\n",
      "Reported Complexity   0.0515303954737\n",
      "Task selection   0.0\n",
      "% Task selection   0.0\n",
      "[ 0.05  0.    0.    0.07  0.07  0.08  0.05  0.13  0.07  0.06  0.09  0.08\n",
      "  0.1   0.08  0.08]\n"
     ]
    },
    {
     "name": "stderr",
     "output_type": "stream",
     "text": [
      "/usr/lib/python3.6/site-packages/sklearn/cross_validation.py:44: DeprecationWarning: This module was deprecated in version 0.18 in favor of the model_selection module into which all the refactored classes and functions are moved. Also note that the interface of the new CV iterators are different from that of this module. This module will be removed in 0.20.\n",
      "  \"This module will be removed in 0.20.\", DeprecationWarning)\n"
     ]
    }
   ],
   "source": [
    "# TODO\n",
    "# randomize training and testing set, CV\n",
    "# decision tree and features\n",
    "# PCA\n",
    "\n",
    "from sklearn.model_selection import KFold\n",
    "from sklearn.cross_validation import train_test_split\n",
    "from sklearn.metrics import accuracy_score\n",
    "from sklearn.model_selection import cross_val_score\n",
    "from sklearn.tree import DecisionTreeClassifier\n",
    "from sklearn.linear_model import LogisticRegression\n",
    "from sklearn.ensemble import ExtraTreesClassifier\n",
    "\n",
    "# FOLDS = 3\n",
    "\n",
    "# kf = KFold(n_splits=FOLDS) # Define the split - into 2 folds \n",
    "# kf.get_n_splits(X) # returns the number of splitting iterations in the cross-validator\n",
    "\n",
    "\n",
    "# KFold(n_splits=2, random_state=None, shuffle=True)\n",
    "\n",
    "# for train_index, test_index in kf.split(X):\n",
    "#     print(\"TRAIN:\", train_index, \"TEST:\", test_index)\n",
    "#     X_train, X_test = X[train_index], X[test_index]\n",
    "#     y_train, y_test = y[train_index], y[test_index]\n",
    "\n",
    "\n",
    "X, Y = informedFTT[:,:-1], informedFTT[:,-1] \n",
    "X_train, X_test, y_train, y_test = train_test_split( X, Y, test_size = 0.3, random_state = 100)\n",
    "\n",
    "\n",
    "# Decision tree\n",
    "classifier = DecisionTreeClassifier(criterion = \"entropy\", random_state = 100, max_depth=3, min_samples_leaf=5)\n",
    "classifier.fit(X_train, y_train)\n",
    "\n",
    "y_pred = classifier.predict(X_test)\n",
    "print(\"Accuracy is \", accuracy_score(y_test,y_pred)*100)\n",
    "\n",
    "\n",
    "# fit an Extra Trees model to the data\n",
    "model = ExtraTreesClassifier()\n",
    "model.fit(X_train, y_train)\n",
    "# Relative importance of each attribute\n",
    "#task complexity(0), # task selec(1), % sele(2), # correct on task(3), % correct(4), \n",
    "#answers(5:11), relative performance (12), lp (13), relative lp (14)\n",
    "#interest, complexity, time, progress, rule, future-learning after training, future-learning after testing\n",
    "features = ['Complexity', 'Task selection', '% Task selection', '# Correct', '% Correct', 'Reported Interest',\n",
    "           'Reported Complexity', 'Reported Time Invested', 'Reported Progress', 'Reported Rule',\n",
    "            'Reported Future Learning after training', 'Reported Future Learning after experiment',\n",
    "           'Relative Performance', 'LP', 'Relative LP']\n",
    "\n",
    "print(\"==========\")\n",
    "zipped = zip(features, model.feature_importances_)\n",
    "zipped = sorted(zipped, key=lambda x: x[1], reverse=True)\n",
    "for f,i in zipped:\n",
    "    print(f,\" \",i)\n",
    "\n",
    "print(model.feature_importances_)\n"
   ]
  },
  {
   "cell_type": "code",
   "execution_count": 16,
   "metadata": {},
   "outputs": [
    {
     "data": {
      "text/plain": [
       "<matplotlib.text.Text at 0x7f6562fe0ba8>"
      ]
     },
     "execution_count": 16,
     "metadata": {},
     "output_type": "execute_result"
    },
    {
     "data": {
      "image/png": "[encoded data removed]",
      "text/plain": [
       "<matplotlib.figure.Figure at 0x7f656807f518>"
      ]
     },
     "metadata": {},
     "output_type": "display_data"
    }
   ],
   "source": [
    "# PCA + Logistic regression or Decision tree\n",
    "from sklearn import linear_model, decomposition\n",
    "from sklearn.pipeline import Pipeline\n",
    "from sklearn.model_selection import GridSearchCV\n",
    "from sklearn.preprocessing import scale\n",
    "\n",
    "X_train_scaled = scale(X_train)\n",
    "\n",
    "#classifier = linear_model.LogisticRegression()\n",
    "classifier = DecisionTreeClassifier(criterion = \"entropy\", random_state = 100, max_depth=3, min_samples_leaf=5)\n",
    "\n",
    "pca = decomposition.PCA()\n",
    "pipe = Pipeline(steps=[('pca', pca), ('logistic', classifier)])\n",
    "pca.fit(X_train_scaled)\n",
    "\n",
    "#X_proj = pca.transform(X_train_scaled)\n",
    "\n",
    "#The amount of variance that each component explains\n",
    "var = pca.explained_variance_ratio_\n",
    "\n",
    "#Cumulative explained variance\n",
    "varcum = np.cumsum(np.round(pca.explained_variance_ratio_, decimals=4)*100)\n",
    "\n",
    "plt.plot(varcum)\n",
    "plt.axis('tight')\n",
    "plt.xlabel('# of components')\n",
    "plt.ylabel('Cumulative Explained Variance')"
   ]
  },
  {
   "cell_type": "code",
   "execution_count": 17,
   "metadata": {},
   "outputs": [
    {
     "data": {
      "image/png": "[encoded data removed]",
      "text/plain": [
       "<matplotlib.figure.Figure at 0x7f6562f7c518>"
      ]
     },
     "metadata": {},
     "output_type": "display_data"
    }
   ],
   "source": [
    "nComp = [5, 6, 7, 8, 9, 10, 11, 12]\n",
    "\n",
    "estimator = GridSearchCV(pipe,dict(pca__n_components=nComp))\n",
    "estimator.fit(X_train, y_train)\n",
    "\n",
    "plt.axvline(estimator.best_estimator_.named_steps['pca'].n_components,linestyle='-', label='Components chosen')\n",
    "plt.legend(prop=dict(size=12))\n",
    "plt.show()"
   ]
  },
  {
   "cell_type": "code",
   "execution_count": null,
   "metadata": {
    "collapsed": true
   },
   "outputs": [],
   "source": []
  }
 ],
 "metadata": {
  "kernelspec": {
   "display_name": "Python 3",
   "language": "python",
   "name": "python3"
  },
  "language_info": {
   "codemirror_mode": {
    "name": "ipython",
    "version": 3
   },
   "file_extension": ".py",
   "mimetype": "text/x-python",
   "name": "python",
   "nbconvert_exporter": "python",
   "pygments_lexer": "ipython3",
   "version": "3.6.1"
  }
 },
 "nbformat": 4,
 "nbformat_minor": 2
}
